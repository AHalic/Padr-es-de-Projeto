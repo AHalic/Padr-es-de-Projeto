{
 "cells": [
  {
   "cell_type": "markdown",
   "id": "8888e733",
   "metadata": {},
   "source": [
    "# Grupo"
   ]
  },
  {
   "cell_type": "markdown",
   "id": "34fccd33",
   "metadata": {},
   "source": [
    "- Beatriz Maia\n",
    "- Luis Câmara\n",
    "- Sophie Dilhon\n",
    "- Vitor Bonella"
   ]
  },
  {
   "cell_type": "markdown",
   "id": "815a55d9",
   "metadata": {},
   "source": [
    "# 1 Abstract Factory"
   ]
  },
  {
   "cell_type": "markdown",
   "id": "21789ae9",
   "metadata": {},
   "source": [
    "## Exercício 1.1"
   ]
  },
  {
   "cell_type": "markdown",
   "id": "7c930acd",
   "metadata": {},
   "source": [
    "Crie um “Hello, World” que utilize o padrão Abstract Factory para escolher dentre duas formas de impressão: (a) na tela ou (b) num arquivo chamado output.txt. Seu programa deve escolher dentre as duas fábricas aleatoriamente.\n",
    "\n",
    "---"
   ]
  },
  {
   "cell_type": "markdown",
   "id": "a7069114",
   "metadata": {},
   "source": [
    "Primeiro vamos criar a classe dos produtos da Fabrica Abstrata de Hellow World. Pois todas variantes de produtos em uma fabrica abstrata tem que implementar o produto abstrato da fabrica."
   ]
  },
  {
   "cell_type": "code",
   "execution_count": 1,
   "id": "a319f8d6",
   "metadata": {},
   "outputs": [],
   "source": [
    "from abc import ABC, abstractmethod\n",
    "\n",
    "class AbstractHelloWorld(ABC):\n",
    "    \"\"\"\n",
    "    Cada produto tem que ter uma interface como base. Todas variantes do produtos tem que implementar ela\n",
    "    \"\"\"\n",
    "    @abstractmethod\n",
    "    def imprime_hello_world(self):\n",
    "        pass"
   ]
  },
  {
   "cell_type": "markdown",
   "id": "b6d08af4",
   "metadata": {},
   "source": [
    "Aqui estão implementadas as 2 classes sugeridas no exercicio, a que imprime na tela(Stdin) e a que imprime em um arquivo , respectivamente, StdinHelloWorld e FileHelloWorld fazem estas funçoes."
   ]
  },
  {
   "cell_type": "code",
   "execution_count": 2,
   "id": "c0c714ec",
   "metadata": {},
   "outputs": [],
   "source": [
    "class StdinHelloWorld(AbstractHelloWorld):\n",
    "    def imprime_hello_world(self):\n",
    "        return \"Hello, World\"\n",
    "    \n",
    "class FileHelloWorld(AbstractHelloWorld):\n",
    "    def imprime_hello_world(self):\n",
    "        f = open(\"output.txt\", \"w\")\n",
    "        f.write(\"Hello, World\")\n",
    "        return \"Criado arquivo output.txt\""
   ]
  },
  {
   "cell_type": "markdown",
   "id": "33319858",
   "metadata": {},
   "source": [
    "Aqui declaramos a interface da fabrica abstrada que possui seus metodo de imprimir hello world na tela ou no arquivo."
   ]
  },
  {
   "cell_type": "code",
   "execution_count": 3,
   "id": "c6650ad3",
   "metadata": {},
   "outputs": [],
   "source": [
    "class AbstractFactory(ABC):\n",
    "    \"\"\"\n",
    "    Interface que declara os methos que retornam diferentes produtos. Cada produto é uma familia.\n",
    "    \"\"\"\n",
    "    @abstractmethod\n",
    "    def imprime_hello_world_tela(self):\n",
    "        pass\n",
    "    \n",
    "    @abstractmethod\n",
    "    def imprime_hello_world_file(self):\n",
    "        pass"
   ]
  },
  {
   "cell_type": "markdown",
   "id": "d83e52f1",
   "metadata": {},
   "source": [
    "Aqui temos a implementação da fábrica abstrata, uma delas retorna a classe responsavel por imprimir no Stdin e a outra retorna a do arquivo. Vale resaltar que isso segue o padrao de fabrica abstrata pois a fabrica está usando os produtos e criando uma familia \"hello world\"."
   ]
  },
  {
   "cell_type": "code",
   "execution_count": 4,
   "id": "758ff7b3",
   "metadata": {},
   "outputs": [],
   "source": [
    "class HelloWorldFactory(AbstractFactory):\n",
    "    \"\"\"\n",
    "    Implementa a familia de produtos que imprime na tela\n",
    "    \"\"\"\n",
    "\n",
    "    def imprime_hello_world_tela(self):\n",
    "        return StdinHelloWorld()\n",
    "    \n",
    "    def imprime_hello_world_file(self):\n",
    "        return FileHelloWorld()"
   ]
  },
  {
   "cell_type": "markdown",
   "id": "60cdfbdb",
   "metadata": {},
   "source": [
    "Aqui temos a main que testa o cliente usando a fabrica, nela resolvemos aleatoriamente como imprimir Hello World."
   ]
  },
  {
   "cell_type": "code",
   "execution_count": 5,
   "id": "42387b86",
   "metadata": {},
   "outputs": [
    {
     "name": "stdout",
     "output_type": "stream",
     "text": [
      "Testando a fabrica abstrata Hello World\n",
      "Hello, World\n"
     ]
    }
   ],
   "source": [
    "from random import randint\n",
    "def cliente(factory):\n",
    "    \"\"\"\n",
    "    O cliente pode utilizar a familia de produtos passada a ele. Neste cliente o tipo de hellow world sera escolhido\n",
    "    de forma aleatoria\n",
    "    \"\"\"\n",
    "    n = randint(0,1)\n",
    "    if n == 0:\n",
    "        produto1 = factory.imprime_hello_world_tela()\n",
    "        print(f\"{produto1.imprime_hello_world()}\")\n",
    "    else:\n",
    "        produto2 = factory.imprime_hello_world_file()\n",
    "        print(f\"{produto2.imprime_hello_world()}\")\n",
    "\n",
    "print(\"Testando a fabrica abstrata Hello World\")\n",
    "\n",
    "cliente(HelloWorldFactory())"
   ]
  },
  {
   "cell_type": "markdown",
   "id": "bbe71dcd",
   "metadata": {},
   "source": [
    "# 2 Bridge"
   ]
  },
  {
   "cell_type": "code",
   "execution_count": 6,
   "id": "b486cafc",
   "metadata": {},
   "outputs": [],
   "source": [
    "# Para identificar quando o metodo eh abstrato\n",
    "from abc import abstractmethod"
   ]
  },
  {
   "cell_type": "markdown",
   "id": "26b71f3e",
   "metadata": {},
   "source": [
    "## Exercício 2.1"
   ]
  },
  {
   "cell_type": "markdown",
   "id": "015cef7b",
   "metadata": {},
   "source": [
    "Para ilustrar o padrão Bridge, vamos simulá-lo com um exemplo do mundo real. Em lanchonetes você pode\n",
    "comprar refrigerantes de vários tipos (coca-cola, guaraná, etc.) e tamanhos (pequeno, médio, etc.). Se\n",
    "fôssemos criar classes representando estes elementos, teríamos uma proliferação de classes:\n",
    "CocaColaPequena, CocaColaMedia, GuaranaPequeno, etc.\n",
    "\n",
    "---"
   ]
  },
  {
   "cell_type": "markdown",
   "id": "26705a7e",
   "metadata": {},
   "source": [
    "A hierarquia acima abstrai o quesito “tamanho” de um refrigerante. Ela se preocupa em prover classes\n",
    "diferentes para tamanhos diferentes. Temos ainda que tratar o quesito “tipo” do refrigerante. Para não\n",
    "proliferar classes, como já enunciado, criamos uma outra hierarquia para tratar o tipo dos refrigerantes."
   ]
  },
  {
   "cell_type": "code",
   "execution_count": 7,
   "id": "80771839",
   "metadata": {},
   "outputs": [],
   "source": [
    "class ImplementacaoRefrigerante:\n",
    "    \"\"\"\n",
    "    Interface para implementacao dos tipos diferentes\n",
    "    de refrigerante.\n",
    "    \"\"\"\n",
    "    \n",
    "    @abstractmethod\n",
    "    def __str__(self) -> str:\n",
    "        \"\"\"\n",
    "        Classe abstrata str para retorna o nome do \n",
    "        tipo de refrigerante.\n",
    "        \"\"\"\n",
    "        pass\n",
    "\n",
    "class CocaCola(ImplementacaoRefrigerante):\n",
    "    \"\"\"\n",
    "    Refrigerante do tipo coca cola.\n",
    "    \"\"\"\n",
    "    \n",
    "    def __str__(self) -> str:\n",
    "        return \"coca-cola\"\n",
    "    \n",
    "class Guarana(ImplementacaoRefrigerante):\n",
    "    \"\"\"\n",
    "    Refrigerante do tipo guarana.\n",
    "    \"\"\"\n",
    "    \n",
    "    def __str__(self) -> str:\n",
    "        return \"guaraná\""
   ]
  },
  {
   "cell_type": "code",
   "execution_count": 8,
   "id": "4250332f",
   "metadata": {},
   "outputs": [],
   "source": [
    "class AbstracaoTamanho:\n",
    "    \"\"\"\n",
    "    Classe abstrata de tamanho de refrigerante. Recebe refrigerante \n",
    "    na inicializacao.\n",
    "    \"\"\"\n",
    "    \n",
    "    def __init__(self, refrigerante:ImplementacaoRefrigerante) -> None:\n",
    "        self.refrigerante = refrigerante\n",
    "    \n",
    "    @abstractmethod\n",
    "    def beber(self) -> None:\n",
    "        \"\"\"\n",
    "        Metodo abstrato para simular bebida do refrigerante. Deve\n",
    "        mostra tomando uma quantidade de goles dependendo do \n",
    "        tamanho ate acabar o refrigerante.\n",
    "        \"\"\"\n",
    "        pass\n",
    "    \n",
    "class TamanhoPequeno(AbstracaoTamanho):\n",
    "    \"\"\"\n",
    "    Refrigerante de tamanho pequeno.\n",
    "    \"\"\"\n",
    "    \n",
    "    def beber(self) -> None:\n",
    "        \"\"\"\n",
    "        Bebe um gole e acaba o refrigerante.\n",
    "        \"\"\"\n",
    "        print(f\"Toma um gole de {self.refrigerante}\")\n",
    "        print(f\"Acabou com o(a) {self.refrigerante}\", end=\"\\n\\n\")\n",
    "    \n",
    "class TamanhoMedio(AbstracaoTamanho):  \n",
    "    \"\"\"\n",
    "    Refrigerante de tamanho medio.\n",
    "    \"\"\"\n",
    "    \n",
    "    def beber(self) -> None:\n",
    "        \"\"\"\n",
    "        Bebe dois goles e acaba o refrigerante.\n",
    "        \"\"\"\n",
    "        print(f\"Toma um gole de {self.refrigerante}\")\n",
    "        print(f\"Toma um gole de {self.refrigerante}\")\n",
    "        print(f\"Acabou com o(a) {self.refrigerante}\", end=\"\\n\\n\")       "
   ]
  },
  {
   "cell_type": "markdown",
   "id": "3799534a",
   "metadata": {},
   "source": [
    "Experimente as classes acima criando um programa que criará diferentes tipos de refrigerantes de diferentes\n",
    "tamanhos. Chame o método “beber()” e note que o tipo e o tamanho estão certos (o tipo é impresso e o\n",
    "tamanho é notado pela quantidade de goles que se toma antes de acabar o refrigerante)."
   ]
  },
  {
   "cell_type": "code",
   "execution_count": 9,
   "id": "3a0a445d",
   "metadata": {},
   "outputs": [],
   "source": [
    "# Experimentando Coca Cola e Guarana\n",
    "guarana_pequeno = TamanhoPequeno(Guarana())\n",
    "guarana_medio = TamanhoMedio(Guarana())\n",
    "\n",
    "cocacola_pequeno = TamanhoPequeno(CocaCola())\n",
    "cocacola_medio = TamanhoMedio(CocaCola())"
   ]
  },
  {
   "cell_type": "code",
   "execution_count": 10,
   "id": "0f189d96",
   "metadata": {},
   "outputs": [
    {
     "name": "stdout",
     "output_type": "stream",
     "text": [
      "Eu comprei um guarana pequeno\n",
      "Toma um gole de guaraná\n",
      "Acabou com o(a) guaraná\n",
      "\n",
      "Eu comprei um guarana medio\n",
      "Toma um gole de guaraná\n",
      "Toma um gole de guaraná\n",
      "Acabou com o(a) guaraná\n",
      "\n",
      "Eu comprei uma coca-cola pequena\n",
      "Toma um gole de coca-cola\n",
      "Acabou com o(a) coca-cola\n",
      "\n",
      "Eu comprei uma coca-cola media\n",
      "Toma um gole de coca-cola\n",
      "Toma um gole de coca-cola\n",
      "Acabou com o(a) coca-cola\n",
      "\n"
     ]
    }
   ],
   "source": [
    "# Bebendo os refris\n",
    "print(\"Eu comprei um guarana pequeno\")\n",
    "guarana_pequeno.beber()\n",
    "\n",
    "print(\"Eu comprei um guarana medio\")\n",
    "guarana_medio.beber()\n",
    "\n",
    "print(\"Eu comprei uma coca-cola pequena\")\n",
    "cocacola_pequeno.beber()\n",
    "\n",
    "print(\"Eu comprei uma coca-cola media\")\n",
    "cocacola_medio.beber()"
   ]
  },
  {
   "cell_type": "markdown",
   "id": "778b7f5e",
   "metadata": {},
   "source": [
    "Implemente mais\n",
    "tipos de refrigerante (Fanta, Sprite, etc.) e mais tamanhos (Grande, Tamanho Família, etc.) para\n",
    "experimentar como o padrão Bridge funciona."
   ]
  },
  {
   "cell_type": "code",
   "execution_count": 11,
   "id": "1ced3951",
   "metadata": {},
   "outputs": [],
   "source": [
    "# Tamanhos\n",
    "class TamanhoGrande(AbstracaoTamanho): \n",
    "    \"\"\"\n",
    "    Refrigerante de tamanho grande.\n",
    "    \"\"\"\n",
    "    \n",
    "    def beber(self) -> None:\n",
    "        \"\"\"\n",
    "        Bebe tres goles e acaba o refrigerante.\n",
    "        \"\"\"\n",
    "        print(f\"Toma um gole de {self.refrigerante}\")\n",
    "        print(f\"Toma um gole de {self.refrigerante}\")\n",
    "        print(f\"Toma um gole de {self.refrigerante}\")\n",
    "        print(f\"Acabou com o(a) {self.refrigerante}\", end=\"\\n\\n\")  \n",
    "        \n",
    "class TamanhoFamilia(AbstracaoTamanho): \n",
    "    \"\"\"\n",
    "    Refrigerante de tamanho familia.\n",
    "    \"\"\"\n",
    "    \n",
    "    def beber(self) -> None:\n",
    "        \"\"\"\n",
    "        Bebe seis goles e acaba o refrigerante.\n",
    "        \"\"\"\n",
    "        print(f\"Toma um gole de {self.refrigerante}\")\n",
    "        print(f\"Toma um gole de {self.refrigerante}\")\n",
    "        print(f\"Toma um gole de {self.refrigerante}\")\n",
    "        print(f\"Toma um gole de {self.refrigerante}\")        \n",
    "        print(f\"Toma um gole de {self.refrigerante}\")\n",
    "        print(f\"Toma um gole de {self.refrigerante}\")\n",
    "        print(f\"Acabou com o(a) {self.refrigerante}\", end=\"\\n\\n\")  "
   ]
  },
  {
   "cell_type": "code",
   "execution_count": 12,
   "id": "9670d8c6",
   "metadata": {},
   "outputs": [],
   "source": [
    "# Refris\n",
    "class FantaLaranja(ImplementacaoRefrigerante):\n",
    "    \"\"\"\n",
    "    Refrigerante do tipo fanta laranja.\n",
    "    \"\"\"\n",
    "    \n",
    "    def __str__(self) -> str:\n",
    "        return \"fanta laranja\"\n",
    "\n",
    "class SchweppesCitrus(ImplementacaoRefrigerante):\n",
    "    \"\"\"\n",
    "    Refrigerante do tipo schweppes citrus.\n",
    "    \"\"\"\n",
    "    \n",
    "    def __str__(self) -> str:\n",
    "        return \"schweppes citrus\""
   ]
  },
  {
   "cell_type": "code",
   "execution_count": 13,
   "id": "64541353",
   "metadata": {},
   "outputs": [
    {
     "name": "stdout",
     "output_type": "stream",
     "text": [
      "Toma um gole de fanta laranja\n",
      "Toma um gole de fanta laranja\n",
      "Toma um gole de fanta laranja\n",
      "Acabou com o(a) fanta laranja\n",
      "\n",
      "Toma um gole de schweppes citrus\n",
      "Acabou com o(a) schweppes citrus\n",
      "\n",
      "Toma um gole de coca-cola\n",
      "Toma um gole de coca-cola\n",
      "Toma um gole de coca-cola\n",
      "Toma um gole de coca-cola\n",
      "Toma um gole de coca-cola\n",
      "Toma um gole de coca-cola\n",
      "Acabou com o(a) coca-cola\n",
      "\n",
      "Toma um gole de guaraná\n",
      "Toma um gole de guaraná\n",
      "Acabou com o(a) guaraná\n",
      "\n"
     ]
    }
   ],
   "source": [
    "# Bebendo mais refris\n",
    "fanta_laranja_grande = TamanhoGrande(FantaLaranja())\n",
    "schweppes_pequeno = TamanhoPequeno(SchweppesCitrus())\n",
    "coca_cola_familia = TamanhoFamilia(CocaCola())\n",
    "guarana_medio = TamanhoMedio(Guarana())\n",
    "\n",
    "fanta_laranja_grande.beber()\n",
    "schweppes_pequeno.beber()\n",
    "coca_cola_familia.beber()\n",
    "guarana_medio.beber()"
   ]
  },
  {
   "cell_type": "markdown",
   "id": "06e3bcc9",
   "metadata": {},
   "source": [
    "Nesse exercício foi feito a classe ImplementacaoRefrigerante para ser a interface dos refrigerantes, devido Python não ter \"interfaces\"."
   ]
  },
  {
   "cell_type": "markdown",
   "id": "7eb411d0",
   "metadata": {},
   "source": [
    "## Exercício 2.2"
   ]
  },
  {
   "cell_type": "markdown",
   "id": "ec646165",
   "metadata": {},
   "source": [
    "Similar ao exercício anterio, utilizar o padrão Bridge para separar duas hierarquias que irão tratar aspectos\n",
    "diferentes de um objeto. Queremos, agora, implementar listas ordenadas e não ordenadas e que podem ser\n",
    "impressas como itens numerados, letras ou marcadores (“*”, “-”, etc.).\n",
    "\n",
    "Sugestão: defina a abstração (hierarquia da esquerda) como sendo uma interface de uma lista que declara\n",
    "métodos adicionar(String s) e imprimir() e suas implementações (abstrações refinadas) seriam a lista\n",
    "ordenada e não ordenada. Como implementador (hierarquia da direita), defina uma interface que imprime\n",
    "itens de lista, e suas implementações seriam responsáveis por imprimir com números, letras, marcadores,\n",
    "etc.\n",
    "\n",
    "---"
   ]
  },
  {
   "cell_type": "code",
   "execution_count": 14,
   "id": "2e042762",
   "metadata": {},
   "outputs": [],
   "source": [
    "class Marcador:\n",
    "    \"\"\"\n",
    "    Interface para marcadores.\n",
    "    \"\"\"\n",
    "    \n",
    "    def __init__(self, item:str=\"\"):\n",
    "        self.marcador = item\n",
    "    \n",
    "    @abstractmethod\n",
    "    def mostra_marcador(self) -> str:\n",
    "        \"\"\"\n",
    "        Metodo abstrada que retorna o valor do \n",
    "        marcador e atualiza o valor dele.\n",
    "        \"\"\"\n",
    "        pass\n",
    "\n",
    "class MarcadorNumerico(Marcador):\n",
    "    \"\"\"\n",
    "    Marcador numerico, inicializa com o valor 1\n",
    "    e cada vez que eh chamado atualiza o valor.\n",
    "    \"\"\"\n",
    "    \n",
    "    def __init__(self, item:str=\"\"):\n",
    "        self.marcador = 1\n",
    "    \n",
    "    def mostra_marcador(self) -> str:\n",
    "        \"\"\"\n",
    "        Retorna o valor do marcador e atualiza o valor \n",
    "        dele.\n",
    "        \"\"\"\n",
    "        numero_str = str(self.marcador)\n",
    "        self.marcador += 1\n",
    "        \n",
    "        return numero_str\n",
    "        \n",
    "class MarcadorAlfabetico(Marcador):\n",
    "    \"\"\"\n",
    "    Marcador alfabetico (maiusculo). Inicia com o\n",
    "    valor \"A\" e anda pelo alfabeto ate \"Z\". Depois\n",
    "    disso inicia novamente o alfabeto.\n",
    "    \"\"\"\n",
    "    \n",
    "    def __init__(self, item:str=\"\") -> None:\n",
    "        super().__init__(\"A\")\n",
    "    \n",
    "    def mostra_marcador(self) -> str:\n",
    "        \"\"\"\n",
    "        Retorna o valor do marcador e atualiza o valor \n",
    "        dele.\n",
    "        \"\"\"\n",
    "        letra_str = self.marcador\n",
    "        \n",
    "        # Marcador eh a ultima letra\n",
    "        if ord(self.marcador) == 90:\n",
    "            self.marcador = \"A\"\n",
    "        else:\n",
    "            self.marcador = chr(ord(self.marcador) + 1)\n",
    "            \n",
    "        return letra_str\n",
    "        \n",
    "class MarcadorCoringa(Marcador):\n",
    "    \"\"\"\n",
    "    Marcador coringa. Pode receber qualquer valor\n",
    "    como marcador (ex.: \"*\", \"-\", \"item\", etc.). \n",
    "    \"\"\"\n",
    "    \n",
    "    def mostra_marcador(self) -> str:\n",
    "        \"\"\"\n",
    "        Retorna o valor do marcador e atualiza o valor \n",
    "        dele.\n",
    "        \"\"\"\n",
    "        return str(self.marcador)"
   ]
  },
  {
   "cell_type": "code",
   "execution_count": 15,
   "id": "c08d5d34",
   "metadata": {},
   "outputs": [],
   "source": [
    "class ListaInterface:\n",
    "    \"\"\"\n",
    "    Interface de lista. Inicializa uma lista vazia\n",
    "    e recebe o tipo de marcador que utilizara quando\n",
    "    for imprimir os itens da lista.\n",
    "    \"\"\"\n",
    "    \n",
    "    def __init__(self, marcador:Marcador) -> None:\n",
    "        self.lista = []\n",
    "        self.marcador = marcador\n",
    "        \n",
    "    @abstractmethod\n",
    "    def adicionar(self, item:str) -> None:\n",
    "        \"\"\"\n",
    "        Metodo abstrato para como item deve ser\n",
    "        adicionado a lista.\n",
    "        \"\"\"\n",
    "        pass\n",
    "    \n",
    "    def imprimir(self) -> None:\n",
    "        \"\"\"\n",
    "        Apresenta na tela os itens da lista com\n",
    "        o marcador.\n",
    "        \"\"\"\n",
    "        for item in self.lista:\n",
    "            print(f\"{self.marcador.mostra_marcador()} {item}\")\n",
    "\n",
    "class ListaOrdenada(ListaInterface):\n",
    "    \"\"\"\n",
    "    Lista ordenada crescente. \n",
    "    \"\"\"\n",
    "    def adicionar(self, item:str) -> None:\n",
    "        \"\"\"\n",
    "        Adiciona item na lista de forma crescente\n",
    "        (segue regra: item < item_da_lista).\n",
    "        \"\"\"\n",
    "        # Adiciona item no meio da lista\n",
    "        for indice, it in enumerate(self.lista):\n",
    "            if item < it:\n",
    "                lista_aux = self.lista[indice:]\n",
    "                self.lista[indice] = item\n",
    "            \n",
    "                novo_indice = indice + 1\n",
    "                self.lista[novo_indice:] = lista_aux\n",
    "                return \n",
    "        \n",
    "        # Adiciona item se ele nao foi adicionado anteriormente, coloca no final da lista\n",
    "        self.lista.append(item)        \n",
    "\n",
    "class ListaNaoOrdenada(ListaInterface):\n",
    "    \"\"\"\n",
    "    Lista nao ordenada, com adicao de itens ao\n",
    "    final da lista.\n",
    "    \"\"\"\n",
    "    # Adiciona item ao final da lista\n",
    "    def adicionar(self, item:str) -> None:\n",
    "        \"\"\"\n",
    "        Adiciona item ao final da lista\n",
    "        \"\"\"\n",
    "        self.lista.append(item)"
   ]
  },
  {
   "cell_type": "code",
   "execution_count": 16,
   "id": "1cb3b8d1",
   "metadata": {},
   "outputs": [
    {
     "name": "stdout",
     "output_type": "stream",
     "text": [
      "1 Abacaxi\n",
      "2 Banana\n",
      "3 Melancia\n",
      "4 Uva\n"
     ]
    }
   ],
   "source": [
    "# Lista ordenada numerada de frutas\n",
    "lista_frutas = ListaOrdenada(MarcadorNumerico())\n",
    "lista_frutas.adicionar(\"Banana\")\n",
    "lista_frutas.adicionar(\"Uva\")\n",
    "lista_frutas.adicionar(\"Melancia\")\n",
    "lista_frutas.adicionar(\"Abacaxi\")\n",
    "lista_frutas.imprimir()"
   ]
  },
  {
   "cell_type": "code",
   "execution_count": 17,
   "id": "b1bcd52b",
   "metadata": {},
   "outputs": [
    {
     "name": "stdout",
     "output_type": "stream",
     "text": [
      "A Ciencia da Computacao\n",
      "B Engenharia da Computacao\n",
      "C Engenharia Eletrica\n",
      "D Engenharia Civil\n",
      "E Engenharia Mecanica\n",
      "F Engenharia de Producao\n",
      "G Engenharia Ambiental\n"
     ]
    }
   ],
   "source": [
    "# lista nao ordenada de cursos com indice de letras \n",
    "lista_cursos = ListaNaoOrdenada(MarcadorAlfabetico())\n",
    "lista_cursos.adicionar(\"Ciencia da Computacao\")\n",
    "lista_cursos.adicionar(\"Engenharia da Computacao\")\n",
    "lista_cursos.adicionar(\"Engenharia Eletrica\")\n",
    "lista_cursos.adicionar(\"Engenharia Civil\")\n",
    "lista_cursos.adicionar(\"Engenharia Mecanica\")\n",
    "lista_cursos.adicionar(\"Engenharia de Producao\")\n",
    "lista_cursos.adicionar(\"Engenharia Ambiental\")\n",
    "lista_cursos.imprimir()"
   ]
  },
  {
   "cell_type": "code",
   "execution_count": 18,
   "id": "0cf6578b",
   "metadata": {},
   "outputs": [
    {
     "name": "stdout",
     "output_type": "stream",
     "text": [
      "nota: 3\n",
      "nota: 6\n",
      "nota: 7\n",
      "nota: 8.9\n",
      "nota: 9.4\n",
      "nota: 10\n"
     ]
    }
   ],
   "source": [
    "# lista ordenada de notas com \"nota:\"\n",
    "lista_notas = ListaOrdenada(MarcadorCoringa(\"nota:\"))\n",
    "lista_notas.adicionar(3)\n",
    "lista_notas.adicionar(8.9)\n",
    "lista_notas.adicionar(10)\n",
    "lista_notas.adicionar(9.4)\n",
    "lista_notas.adicionar(6)\n",
    "lista_notas.adicionar(7)\n",
    "lista_notas.imprimir()"
   ]
  },
  {
   "cell_type": "markdown",
   "id": "f6d48799",
   "metadata": {},
   "source": [
    "# 3 Strategy"
   ]
  },
  {
   "cell_type": "markdown",
   "id": "1926c34c",
   "metadata": {},
   "source": [
    "## Exercicio 3.1\n",
    "\n",
    "Escreva um programa que exiba uma mensagem diferente para cada dia da semana usando o padrão\n",
    "Strategy.\n",
    "\n",
    "---"
   ]
  },
  {
   "cell_type": "code",
   "execution_count": 19,
   "id": "b08cac89",
   "metadata": {},
   "outputs": [],
   "source": [
    "from abc import abstractmethod"
   ]
  },
  {
   "cell_type": "markdown",
   "id": "da94fac9",
   "metadata": {},
   "source": [
    "Atribuir o package ABC para implementar uma classe abstrata"
   ]
  },
  {
   "cell_type": "code",
   "execution_count": 20,
   "id": "e57d98d6",
   "metadata": {},
   "outputs": [],
   "source": [
    "class Day():\n",
    "    @abstractmethod\n",
    "    def get_name(self):\n",
    "        pass"
   ]
  },
  {
   "cell_type": "markdown",
   "id": "c72d792b",
   "metadata": {},
   "source": [
    "A classe \"Day\" tem seu papel como uma interface para realizar todos os tipos de operações em comum para os dias da semana."
   ]
  },
  {
   "cell_type": "code",
   "execution_count": 21,
   "id": "4bca715a",
   "metadata": {},
   "outputs": [],
   "source": [
    "class Domingo(Day):\n",
    "    def get_name(self):\n",
    "        return \"Domingo\"\n",
    "\n",
    "class Sabado(Day):\n",
    "    def get_name(self):\n",
    "        return \"Sabado\"\n",
    "\n",
    "class Sexta(Day):\n",
    "    def get_name(self):\n",
    "        return \"Sexta\"\n",
    "\n",
    "class Quinta(Day):\n",
    "    def get_name(self):\n",
    "        return \"Quinta\"\n",
    "\n",
    "class Quarta(Day):\n",
    "    def get_name(self):\n",
    "        return \"Quarta\"\n",
    "\n",
    "class Terca(Day):\n",
    "    def get_name(self):\n",
    "        return \"Terca\"\n",
    "\n",
    "class Segunda(Day):\n",
    "    def get_name(self):\n",
    "        return \"Segunda\""
   ]
  },
  {
   "cell_type": "markdown",
   "id": "cae26d41",
   "metadata": {},
   "source": [
    "Os dias propriamente ditos implementam a operação definida em \"Day\", \n",
    "fazendo com que \"Day\" seja substituível por qualquer dia da semana"
   ]
  },
  {
   "cell_type": "code",
   "execution_count": 22,
   "id": "ebc2f41b",
   "metadata": {},
   "outputs": [],
   "source": [
    "class Mensagem_Dia():\n",
    "    def __init__(self, day):\n",
    "        self.__day = day\n",
    "    def get_message(self):\n",
    "        return self.__day.get_name()"
   ]
  },
  {
   "cell_type": "markdown",
   "id": "60583878",
   "metadata": {},
   "source": [
    "A classe \"Mensagem_Dia\", ela será a inferface de interesse do cliente, sendo possivel apresentar a mensagem para qualquer dia da semana"
   ]
  },
  {
   "cell_type": "code",
   "execution_count": 23,
   "id": "80901207",
   "metadata": {},
   "outputs": [
    {
     "name": "stdout",
     "output_type": "stream",
     "text": [
      "Segunda\n",
      "\n",
      "Terca\n",
      "\n",
      "Quarta\n",
      "\n",
      "Quinta\n",
      "\n",
      "Sexta\n",
      "\n",
      "Sexta\n",
      "\n",
      "Domingo\n",
      "\n"
     ]
    }
   ],
   "source": [
    "dia1 = Mensagem_Dia(Segunda())\n",
    "print(dia1.get_message(), end='\\n\\n')\n",
    "\n",
    "dia2 = Mensagem_Dia(Terca())\n",
    "print(dia2.get_message(), end='\\n\\n')\n",
    "\n",
    "dia3 = Mensagem_Dia(Quarta())\n",
    "print(dia3.get_message(), end='\\n\\n')\n",
    "\n",
    "dia4 = Mensagem_Dia(Quinta())\n",
    "print(dia4.get_message(), end='\\n\\n')\n",
    "\n",
    "dia6 = Mensagem_Dia(Sexta())\n",
    "print(dia6.get_message(), end='\\n\\n')\n",
    "\n",
    "dia7 = Mensagem_Dia(Sabado())\n",
    "print(dia6.get_message(), end='\\n\\n')\n",
    "\n",
    "dia5 = Mensagem_Dia(Domingo())\n",
    "print(dia5.get_message(), end='\\n\\n')"
   ]
  },
  {
   "cell_type": "markdown",
   "id": "c59b29ca",
   "metadata": {},
   "source": [
    "## Exercicio 3.2\n",
    "\n",
    "Em arquivo anexo (pacote br.ufes.inf.designpatterns.behavioral.strategy.sort) estão implementadas quatro\n",
    "formas bastante conhecidas de ordenação: bubble sort, insertion sort, merge sort e quick sort. Coloque-as\n",
    "no padrão Strategy e escreva um cliente que alterna de estratégia de ordenação livremente. Se estiver\n",
    "curioso, cronometre a execução de cada método para verificar qual é o mais eficiente (deve ser usada uma\n",
    "quantidade grande de números no vetor para perceber a diferença).\n",
    "\n",
    "---"
   ]
  },
  {
   "cell_type": "markdown",
   "id": "248f537e",
   "metadata": {},
   "source": [
    "Recriando as classes em Python"
   ]
  },
  {
   "cell_type": "code",
   "execution_count": 24,
   "id": "aed2d8ff",
   "metadata": {},
   "outputs": [],
   "source": [
    "class Ordenador():\n",
    "    def __init__(self):\n",
    "        pass\n",
    "    def set_estrategia(self, estrategia):\n",
    "        self.__estrategia = estrategia\n",
    "    def ordena(self, a):\n",
    "        self.__estrategia.sort(a)\n",
    "        return str(self.__estrategia)"
   ]
  },
  {
   "cell_type": "code",
   "execution_count": 25,
   "id": "5f567d50",
   "metadata": {},
   "outputs": [],
   "source": [
    "class Estrategia():\n",
    "    @abstractmethod\n",
    "    def __init__(self):\n",
    "        pass\n",
    "    @abstractmethod\n",
    "    def sort(self, a):\n",
    "        pass"
   ]
  },
  {
   "cell_type": "code",
   "execution_count": 26,
   "id": "f570466c",
   "metadata": {},
   "outputs": [],
   "source": [
    "#  Classe que executa o bubble sort\n",
    "\n",
    "class BubbleSort(Estrategia):\n",
    "    def sort(self, a):\n",
    "        self.__a = a\n",
    "        self.__n = len(a)\n",
    "    # Precondition: a is array to be sorted of length n\n",
    "    # Postcondition: The list a[0], a[1], ..., a[n-1] is sorted in increasing order.\n",
    "    # This version sorts using bubble sort.\n",
    "        for i in range(self.__n - 1, -1, -1):\n",
    "        # The next two lines are just for demonstration purposes.\n",
    "        # Remove them in a real bubble sort implementation.\n",
    "        # System.out.println(\"Before iteration for i = \" + i + \":\");\n",
    "        # IntIO.writeInts(a, n);\n",
    "        # Bubble the largest element to the end of a[0], ..., a[i].\n",
    "            for j in range(0, i):\n",
    "                if (a[j] > a[j + 1]):\n",
    "                    temp = a[j]\n",
    "                    a[j] = a[j + 1]\n",
    "                    a[j + 1] = temp\n",
    "    def __str__(self):\n",
    "        return \"BubbleSort: a:{}, n:{}\".format(self.__a, self.__n)"
   ]
  },
  {
   "cell_type": "code",
   "execution_count": 27,
   "id": "139907e0",
   "metadata": {},
   "outputs": [],
   "source": [
    "# Classe que executa um InsertionSort\n",
    "\n",
    "class InsertionSort(Estrategia):\n",
    "    def sort(self, a):\n",
    "        self.__a = a\n",
    "        N = len(a)\n",
    "        for i in range(0, N):\n",
    "            for j in range(i, 0, -1):\n",
    "                if (a[j] < a[j - 1]):\n",
    "                    self.__exch(a, j, j - 1)\n",
    "                else:\n",
    "                    break\n",
    "    #exchange a[i] and a[j]\n",
    "    def __exch(self, a, i, j):\n",
    "        swap = a[i]\n",
    "        a[i] = a[j]\n",
    "        a[j] = swap\n",
    "    def __str__(self):\n",
    "        return \"InsertionSort: a:{}\".format(self.__a)"
   ]
  },
  {
   "cell_type": "code",
   "execution_count": 28,
   "id": "865ad0cc",
   "metadata": {},
   "outputs": [],
   "source": [
    "# Classe que executa um MergeSort\n",
    "\n",
    "class MergeSort(Estrategia):\n",
    "    __list = [];\n",
    "\n",
    "     # Recursive helper method which sorts the array referred to by whole using the merge sort algorithm.\n",
    "     # \n",
    "     # @param whole the array to be sorted.\n",
    "     # @return a reference to an array that holds the elements of whole sorted into non-decreasing order.\n",
    "    def sort(self, whole):\n",
    "        self.__whole = whole\n",
    "        whole = self.__mergesort(whole)\n",
    "    def __mergesort(self, whole):\n",
    "        if (len(whole) == 1):\n",
    "            return whole\n",
    "        else:\n",
    "            # Create an array to hold the left half of the whole array\n",
    "            # and copy the left half of whole into the new array.\n",
    "            left = whole[:len(whole)//2]\n",
    "\n",
    "            # Create an array to hold the right half of the whole array\n",
    "            # and copy the right half of whole into the new array.\n",
    "            right = whole[len(left):]\n",
    "\n",
    "            # Sort the left and right halves of the array.\n",
    "            left = self.__mergesort(left);\n",
    "            right = self.__mergesort(right);\n",
    "\n",
    "            # Merge the results back together.\n",
    "            self.__merge(left, right, whole);\n",
    "\n",
    "            return whole;\n",
    "    \n",
    "    \n",
    "     # Merge the two sorted arrays left and right into the array whole.\n",
    "     # \n",
    "     # @param left a sorted array.\n",
    "     # @param right a sorted array.\n",
    "     # @param whole the array to hold the merged left and right arrays.\n",
    "    def __merge(self, left, right, whole):\n",
    "        leftIndex = 0;\n",
    "        rightIndex = 0;\n",
    "        wholeIndex = 0;\n",
    "\n",
    "        # As long as neither the left nor the right array has\n",
    "        # been used up, keep taking the smaller of left[leftIndex]\n",
    "        # or right[rightIndex] and adding it at both[bothIndex].\n",
    "        while (leftIndex < len(left) and rightIndex < len(right)):\n",
    "            if (left[leftIndex] < right[rightIndex]):\n",
    "                whole[wholeIndex] = left[leftIndex]\n",
    "                leftIndex += 1\n",
    "            else:\n",
    "                whole[wholeIndex] = right[rightIndex]\n",
    "                rightIndex += 1\n",
    "            wholeIndex += 1;\n",
    "\n",
    "        rest = [];\n",
    "        restIndex = 0;\n",
    "        if (leftIndex >= len(left)):\n",
    "            # The left array has been use up...\n",
    "            rest = right;\n",
    "            restIndex = rightIndex;\n",
    "        else:\n",
    "            # The right array has been used up...\n",
    "            rest = left;\n",
    "            restIndex = leftIndex;\n",
    "\n",
    "        # Copy the rest of whichever array (left or right) was\n",
    "        # not used up.\n",
    "        for i in range(restIndex, len(rest)):\n",
    "            whole[wholeIndex] = rest[i];\n",
    "            wholeIndex += 1;\n",
    "    def __str__(self):\n",
    "        return \"MergeSort: whole:{}\".format(self.__whole)"
   ]
  },
  {
   "cell_type": "code",
   "execution_count": 29,
   "id": "6869d720",
   "metadata": {},
   "outputs": [],
   "source": [
    "# Classe que executa um QuickSort\n",
    "\n",
    "import random\n",
    "class QuickSort(Estrategia):\n",
    "    # shuffle the array a\n",
    "    def shuffle(self, a) :\n",
    "        N = len(a)\n",
    "        for i in range(N):\n",
    "            r = random.randint(0, i) # int between 0 and i\n",
    "            swap = a[r];\n",
    "            a[r] = a[i];\n",
    "            a[i] = swap;\n",
    "\n",
    "    # ***************************************************************************************************************\n",
    "    # Quicksort code from Sedgewick 7.1, 7.2.\n",
    "    # ***************************************************************************************************************/\n",
    "    def sort(self, a):\n",
    "        self.__a = a\n",
    "        self.shuffle(a); # to guard against worst-case\n",
    "        self.quicksort(a, 0, len(a) - 1);\n",
    "\n",
    "    def quicksort(self, a, left, right):\n",
    "        if (right <= left): \n",
    "            return\n",
    "        i = self.partition(a, left, right)\n",
    "        self.quicksort(a, left, i - 1)\n",
    "        self.quicksort(a, i + 1, right)\n",
    "\n",
    "    def partition(self, a, left, right):\n",
    "        i = left - 1;\n",
    "        j = right;\n",
    "        while (True):\n",
    "            i += 1\n",
    "            while (a[i] < a[right]): # find item on left to swap\n",
    "                i += 1# a[right] acts as sentinel\n",
    "            j -= 1\n",
    "            while (a[right] < a[j]):\n",
    "                # find item on right to swap\n",
    "                if (j == left):\n",
    "                    break; # don't go out-of-bounds\n",
    "                j -= 1\n",
    "            if (i >= j):\n",
    "                break; # check if pointers cross\n",
    "            self.__exch(a, i, j); # swap two elements into place\n",
    "        self.__exch(a, i, right); # swap with partition element\n",
    "        return i;\n",
    "\n",
    "    # exchange a[i] and a[j]\n",
    "    def __exch(self, a, i, j):\n",
    "        swap = a[i];\n",
    "        a[i] = a[j];\n",
    "        a[j] = swap;\n",
    "        \n",
    "    def __str__(self):\n",
    "        return \"QuickSort: a:{}\".format(self.__a)"
   ]
  },
  {
   "cell_type": "markdown",
   "id": "2ea6927f",
   "metadata": {},
   "source": [
    "Para mostrar que a classe Ordenador usa algoritmos diferentes, os algoritmos usados serão impressos mediante a chamada do método ordena"
   ]
  },
  {
   "cell_type": "code",
   "execution_count": 30,
   "id": "476549ed",
   "metadata": {},
   "outputs": [
    {
     "name": "stdout",
     "output_type": "stream",
     "text": [
      "BubbleSort: a:[1, 2, 2, 3, 4, 4, 4, 6, 7, 7, 7, 8, 8, 10, 10], n:15\n"
     ]
    }
   ],
   "source": [
    "Ord = Ordenador()\n",
    "a = [random.randint(0, 10) for i in range(15)]\n",
    "Ord.set_estrategia(BubbleSort())\n",
    "print(Ord.ordena(a))"
   ]
  },
  {
   "cell_type": "markdown",
   "id": "b942308c",
   "metadata": {},
   "source": [
    "Um método de set foi criado para mudar a \"stategy\""
   ]
  },
  {
   "cell_type": "code",
   "execution_count": 31,
   "id": "cc7297d2",
   "metadata": {},
   "outputs": [
    {
     "name": "stdout",
     "output_type": "stream",
     "text": [
      "InsertionSort: a:[0, 0, 1, 1, 2, 3, 3, 3, 5, 7, 8, 8, 8, 10, 10]\n"
     ]
    }
   ],
   "source": [
    "a = [random.randint(0, 10) for i in range(15)]\n",
    "Ord.set_estrategia(InsertionSort())\n",
    "print(Ord.ordena(a))"
   ]
  },
  {
   "cell_type": "code",
   "execution_count": 32,
   "id": "c95ceccb",
   "metadata": {},
   "outputs": [
    {
     "name": "stdout",
     "output_type": "stream",
     "text": [
      "MergeSort: whole:[0, 0, 0, 1, 1, 2, 3, 3, 3, 4, 4, 4, 6, 8, 9]\n"
     ]
    }
   ],
   "source": [
    "a = [random.randint(0, 10) for i in range(15)]\n",
    "Ord.set_estrategia(MergeSort())\n",
    "print(Ord.ordena(a))"
   ]
  },
  {
   "cell_type": "code",
   "execution_count": 33,
   "id": "3f37a217",
   "metadata": {},
   "outputs": [
    {
     "name": "stdout",
     "output_type": "stream",
     "text": [
      "QuickSort: a:[0, 3, 4, 4, 5, 6, 6, 6, 7, 7, 7, 9, 9, 10, 10]\n"
     ]
    }
   ],
   "source": [
    "a = [random.randint(0, 10) for i in range(15)]\n",
    "Ord.set_estrategia(QuickSort())\n",
    "print(Ord.ordena(a))"
   ]
  },
  {
   "cell_type": "markdown",
   "id": "2c3cdefa",
   "metadata": {},
   "source": [
    "Agora um client para realizar a troca livremente"
   ]
  },
  {
   "cell_type": "code",
   "execution_count": 34,
   "id": "d5b5f34f",
   "metadata": {},
   "outputs": [],
   "source": [
    "def printBemVindo():\n",
    "    print(\"Bem vindo ao Ordenador Genérico !\")\n",
    "def printHelpSequencia():\n",
    "    print(\"Digite uma sequencia de números inteiros separados por espaço e pressionar enter\")\n",
    "def printSequencia(a):\n",
    "    print(\"Sua sequencia:\", a)\n",
    "def printHelpOrdenacao():\n",
    "    print(\"Tipos de Ordenação:\")\n",
    "    print(\"1 - BubbleSort\")\n",
    "    print(\"2 - InsertionSort\")\n",
    "    print(\"3 - MergeSort\")\n",
    "    print(\"4 - QuickSort\")\n",
    "    print(\"Basta digitar ou o número ou o Nome da ordenação\")\n",
    "    print(\"Para sair basta digitar -1 na escolha do tipo de ordenação\")"
   ]
  },
  {
   "cell_type": "code",
   "execution_count": 35,
   "id": "02ad5697",
   "metadata": {},
   "outputs": [
    {
     "name": "stdout",
     "output_type": "stream",
     "text": [
      "Bem vindo ao Ordenador Genérico !\n",
      "Digite uma sequencia de números inteiros separados por espaço e pressionar enter\n",
      "4 56 2 3 5\n",
      "Sua sequencia: [4, 56, 2, 3, 5]\n",
      "Tipos de Ordenação:\n",
      "1 - BubbleSort\n",
      "2 - InsertionSort\n",
      "3 - MergeSort\n",
      "4 - QuickSort\n",
      "Basta digitar ou o número ou o Nome da ordenação\n",
      "Para sair basta digitar -1 na escolha do tipo de ordenação\n",
      "1\n",
      "BubbleSort: a:[2, 3, 4, 5, 56], n:5\n",
      "\n",
      "\n",
      "Digite uma sequencia de números inteiros separados por espaço e pressionar enter\n",
      "5 2 4 67 8 2\n",
      "Sua sequencia: [5, 2, 4, 67, 8, 2]\n",
      "Tipos de Ordenação:\n",
      "1 - BubbleSort\n",
      "2 - InsertionSort\n",
      "3 - MergeSort\n",
      "4 - QuickSort\n",
      "Basta digitar ou o número ou o Nome da ordenação\n",
      "Para sair basta digitar -1 na escolha do tipo de ordenação\n",
      "-1\n",
      "Tchau !\n"
     ]
    }
   ],
   "source": [
    "printBemVindo()\n",
    "Ord = Ordenador()\n",
    "while(True):\n",
    "    printHelpSequencia()\n",
    "    arr = list(map(int, input().split()))\n",
    "    printSequencia(arr)\n",
    "    printHelpOrdenacao()\n",
    "    tipo = input()\n",
    "    if(tipo == \"1\" or tipo == \"BubbleSort\"):\n",
    "        Ord.set_estrategia(BubbleSort())  \n",
    "    elif(tipo == \"2\" or tipo == \"InsertionSort\"):\n",
    "        Ord.set_estrategia(InsertionSort())\n",
    "    elif(tipo == \"3\" or tipo == \"MergeSort\"):\n",
    "        Ord.set_estrategia(MergeSort())\n",
    "    elif(tipo == \"4\" or tipo == \"QuickSort\"):\n",
    "        Ord.set_estrategia(QuickSort())\n",
    "    else:\n",
    "        print(\"Tchau !\")\n",
    "        break\n",
    "    print(Ord.ordena(arr))\n",
    "    print(\"\\n\")"
   ]
  },
  {
   "cell_type": "markdown",
   "id": "9082a827",
   "metadata": {},
   "source": [
    "# 4 Template Method"
   ]
  },
  {
   "cell_type": "code",
   "execution_count": 36,
   "id": "3a15bf3b",
   "metadata": {},
   "outputs": [],
   "source": [
    "from abc import ABC, abstractmethod"
   ]
  },
  {
   "cell_type": "markdown",
   "id": "fc1d70a2",
   "metadata": {},
   "source": [
    "## Exercício 4.1 "
   ]
  },
  {
   "cell_type": "markdown",
   "id": "94fb2f00",
   "metadata": {},
   "source": [
    "Exercite o padrão Template Method criando uma classe abstrata que lê uma String do console, transforma-a\n",
    "e imprime-a transformada. A transformação é delegada às subclasses. Implemente quatro subclasses, uma\n",
    "que transforme a string toda para maiúsculo, outra que transforme em tudo minúsculo, uma que duplique a\n",
    "string e a última que inverta a string.\n",
    "\n",
    "---"
   ]
  },
  {
   "cell_type": "code",
   "execution_count": 37,
   "id": "9a5930ee",
   "metadata": {},
   "outputs": [],
   "source": [
    "class AbstractTemplateClass(ABC):\n",
    "    \"\"\"\n",
    "    A classe asbtrata define o template method que contém o esqueleto do algoritmo\n",
    "    composto de chamadas das funções primitivas abstratas\n",
    "    \n",
    "    As subclasses devem implementar os métodos abstratos, mas \n",
    "    deixar o template method intacto\n",
    "    \"\"\"\n",
    "\n",
    "    def template_method(self) -> None:\n",
    "        \"\"\"\n",
    "        The template method defines the skeleton of an algorithm.\n",
    "        \"\"\"\n",
    "\n",
    "        string = self.le_string()\n",
    "\n",
    "        string = self.transformacao(string)\n",
    "        \n",
    "        self.imprime_string(string)\n",
    "\n",
    "    # Esses métodos já estão implementados.\n",
    "\n",
    "    def imprime_string(self, string:str) -> None:\n",
    "        print(\"A string é: \", string, end='\\n\\n')\n",
    "        \n",
    "    def le_string(self) -> None:\n",
    "        return input('Insira uma string: ')\n",
    "\n",
    "\n",
    "    # Esse método deve ser implementado na subclasse\n",
    "\n",
    "    @abstractmethod\n",
    "    def transformacao(self, string) -> None:\n",
    "        pass\n"
   ]
  },
  {
   "cell_type": "markdown",
   "id": "b3384f31",
   "metadata": {},
   "source": [
    "Após implementar a classe abstrata, devem ser implementadas as subclasses e o método abstrato que não foi implementado."
   ]
  },
  {
   "cell_type": "code",
   "execution_count": 38,
   "id": "432ce9bc",
   "metadata": {},
   "outputs": [],
   "source": [
    "class Maiusculo(AbstractTemplateClass):\n",
    "    \"\"\"\n",
    "    Subclasses devem implementar todas os métodos da classe abstrata\n",
    "    \"\"\"\n",
    "\n",
    "    def transformacao(self, string) -> None:\n",
    "        return string.upper()"
   ]
  },
  {
   "cell_type": "code",
   "execution_count": 39,
   "id": "d81f4caa",
   "metadata": {},
   "outputs": [],
   "source": [
    "class Minusculo(AbstractTemplateClass):\n",
    "    \"\"\"\n",
    "    Subclasses devem implementar todas os métodos da classe abstrata\n",
    "    \"\"\"\n",
    "\n",
    "    def transformacao(self, string) -> None:\n",
    "        return string.lower()"
   ]
  },
  {
   "cell_type": "code",
   "execution_count": 40,
   "id": "43146be7",
   "metadata": {},
   "outputs": [],
   "source": [
    "class Duplica(AbstractTemplateClass):\n",
    "    \"\"\"\n",
    "    Subclasses devem implementar todas os métodos da classe abstrata\n",
    "    \"\"\"\n",
    "\n",
    "    def transformacao(self, string) -> None:\n",
    "        return string + string"
   ]
  },
  {
   "cell_type": "code",
   "execution_count": 41,
   "id": "ed8eb066",
   "metadata": {},
   "outputs": [],
   "source": [
    "class Inverte(AbstractTemplateClass):\n",
    "    \"\"\"\n",
    "    Subclasses devem implementar todas os métodos da classe abstrata\n",
    "    \"\"\"\n",
    "\n",
    "    def transformacao(self, string) -> None:\n",
    "        return string[::-1]"
   ]
  },
  {
   "cell_type": "markdown",
   "id": "87fdb39b",
   "metadata": {},
   "source": [
    "É então definida a classe que cliente que chama o template method da classe abstrata. Ele não precisa conhecer nenhuma das subclasses."
   ]
  },
  {
   "cell_type": "code",
   "execution_count": 42,
   "id": "87c59bd1",
   "metadata": {},
   "outputs": [],
   "source": [
    "def client_code(abstract_class: AbstractTemplateClass) -> None:\n",
    "    \"\"\"\n",
    "    O cliente chama o template method para executar o algoritmo.\n",
    "    \"\"\"\n",
    "    abstract_class.template_method()"
   ]
  },
  {
   "cell_type": "markdown",
   "id": "78f9a011",
   "metadata": {},
   "source": [
    "Agora podemos executar o código do cliente para qualquer uma das nossas subclasses e realizar as devidas transformações das strings."
   ]
  },
  {
   "cell_type": "code",
   "execution_count": 43,
   "id": "9b3a2aa5",
   "metadata": {},
   "outputs": [
    {
     "name": "stdout",
     "output_type": "stream",
     "text": [
      "Insira uma string: eu vou ser maiuscula\n",
      "A string é:  EU VOU SER MAIUSCULA\n",
      "\n",
      "Insira uma string: E EU MINUSCULA\n",
      "A string é:  e eu minuscula\n",
      "\n",
      "Insira uma string: eu serei duplicada\n",
      "A string é:  eu serei duplicadaeu serei duplicada\n",
      "\n",
      "Insira uma string: e essa ta invertida\n",
      "A string é:  aditrevni at asse e\n",
      "\n"
     ]
    }
   ],
   "source": [
    "# Para transformar a string em maiuscula\n",
    "client_code(Maiusculo())\n",
    "\n",
    "# Para transformar a string em minuscula\n",
    "client_code(Minusculo())\n",
    "\n",
    "# Para transformar a string em uma duplicação dela\n",
    "client_code(Duplica())\n",
    "\n",
    "# Para transformar a string em sua inversa\n",
    "client_code(Inverte())"
   ]
  },
  {
   "cell_type": "markdown",
   "id": "4e6e6dbe",
   "metadata": {},
   "source": [
    "## exercício 4.2"
   ]
  },
  {
   "cell_type": "markdown",
   "id": "729898cc",
   "metadata": {},
   "source": [
    "Os Comparators de Java podem ser considerados uma variação do Template Method, apesar de não serem\n",
    "feitos via herança. Monte um vetor de doubles e escreva um comparator que compare os números de\n",
    "ponto-flutuante pelo valor decimal (desconsidere o valor antes da vírgula). Em seguida, use Arrays.sort()\n",
    "para ordenar o vetor e Arrays.toString() para imprimi-la.\n",
    "\n",
    "---"
   ]
  },
  {
   "cell_type": "markdown",
   "id": "d4fa8c01",
   "metadata": {},
   "source": [
    "No caso de Python implementaremos inicialmente uma função de comparação que não herda classe alguma, uma vez que não há uma classe de comparação abstrata, como funciona em Java. Esta será então passada como parâmetro para a função de ordenação."
   ]
  },
  {
   "cell_type": "code",
   "execution_count": 44,
   "id": "0d740439",
   "metadata": {},
   "outputs": [],
   "source": [
    "from math import floor\n",
    "from functools import cmp_to_key\n",
    "import numpy as np\n",
    "\n",
    "class Comparador():\n",
    "    def compare(self, x, y):\n",
    "        if x < y:\n",
    "            return -1\n",
    "        elif x > y:\n",
    "            return 1\n",
    "        else:\n",
    "            return 0\n",
    "    \n",
    "    def compara_ponto_flutuante(self, num1, num2):\n",
    "        num1 = num1 - floor(num1)\n",
    "        num2 = num2 - floor(num2)\n",
    "        \n",
    "        return self.compare(num1, num2)"
   ]
  },
  {
   "cell_type": "code",
   "execution_count": 45,
   "id": "c34903f1",
   "metadata": {},
   "outputs": [
    {
     "name": "stdout",
     "output_type": "stream",
     "text": [
      "[-1.36277959  0.28708108  0.95225687 -0.4247206   1.10421938 -0.94825218]\n",
      "\n"
     ]
    },
    {
     "data": {
      "text/plain": [
       "[-0.9482521819209505,\n",
       " 1.1042193807961158,\n",
       " 0.2870810795397623,\n",
       " -0.42472059646735655,\n",
       " -1.3627795855952214,\n",
       " 0.9522568684594821]"
      ]
     },
     "execution_count": 45,
     "metadata": {},
     "output_type": "execute_result"
    }
   ],
   "source": [
    "array = np.random.randn(6)\n",
    "print(array, end='\\n\\n')\n",
    "\n",
    "\n",
    "# a função comparadora deve ser enviada como a key de comparação da função sorted\n",
    "sorted(array, key=cmp_to_key(Comparador().compara_ponto_flutuante))"
   ]
  },
  {
   "cell_type": "markdown",
   "id": "0f0ddd32",
   "metadata": {},
   "source": [
    "# 5 Singleton"
   ]
  },
  {
   "cell_type": "markdown",
   "id": "0a25f563",
   "metadata": {},
   "source": [
    "## Exercicío 5.1"
   ]
  },
  {
   "cell_type": "markdown",
   "id": "67cf9697",
   "metadata": {},
   "source": [
    "Escreva, compile e execute o programa abaixo. Em seguida, troque sua implementação para que a classe Incremental seja Singleton. Execute novamente e veja os resultados.\n",
    "\n",
    "---"
   ]
  },
  {
   "cell_type": "code",
   "execution_count": 46,
   "id": "1239b37d",
   "metadata": {},
   "outputs": [
    {
     "name": "stdout",
     "output_type": "stream",
     "text": [
      "Incremental 0\n",
      "Incremental 0\n",
      "Incremental 0\n",
      "Incremental 0\n",
      "Incremental 0\n",
      "Incremental 0\n",
      "Incremental 0\n",
      "Incremental 0\n",
      "Incremental 0\n",
      "Incremental 0\n"
     ]
    }
   ],
   "source": [
    "class Incremental():\n",
    "    count = 0\n",
    "    numero = 0\n",
    "    \n",
    "    def __init__(self):\n",
    "        self.numero = self.count;\n",
    "        self.count += 1\n",
    "        \n",
    "    def __str__(self):\n",
    "        return \"Incremental \" + str(self.numero)\n",
    "\n",
    "for i in range(10):\n",
    "    inc = Incremental()\n",
    "    print(inc)"
   ]
  },
  {
   "cell_type": "markdown",
   "id": "c5504848",
   "metadata": {},
   "source": [
    "Podemos observar que como foram criadas varias classes, sempre o numero era resetado e criava uma nova instancia de incremental, imprimindo sempre 0.\n",
    "\n",
    "Em Python podemos implementar de varias formas um singleton. Vamos usar a @classmethod para criar uma classe singleton, ou seja todas as instancias levam a uma instancia maior"
   ]
  },
  {
   "cell_type": "code",
   "execution_count": 47,
   "id": "b84b88e5",
   "metadata": {},
   "outputs": [],
   "source": [
    "# my_module.py\n",
    "class IncrementalSingleton:\n",
    "\n",
    "    _instance = None\n",
    "    numero = 0 \n",
    "    count = 0\n",
    "\n",
    "    @classmethod\n",
    "    def instance(cls):\n",
    "        if cls._instance is None:\n",
    "            cls._instance = cls()\n",
    "        cls.numero = cls.count\n",
    "        cls.count += 1\n",
    "        return cls._instance\n",
    "   \n",
    "    def __str__(self):\n",
    "        return \"Incremental \"+ str(self.count)"
   ]
  },
  {
   "cell_type": "code",
   "execution_count": 48,
   "id": "df42aca4",
   "metadata": {
    "scrolled": true
   },
   "outputs": [
    {
     "name": "stdout",
     "output_type": "stream",
     "text": [
      "Incremental 1\n",
      "Incremental 2\n",
      "Incremental 3\n",
      "Incremental 4\n",
      "Incremental 5\n",
      "Incremental 6\n",
      "Incremental 7\n",
      "Incremental 8\n",
      "Incremental 9\n",
      "Incremental 10\n"
     ]
    }
   ],
   "source": [
    "for i in range(10):\n",
    "    inc = IncrementalSingleton.instance()\n",
    "    print(inc)"
   ]
  },
  {
   "cell_type": "markdown",
   "id": "8974bba7",
   "metadata": {},
   "source": [
    "Depois de usar o padrão singleton que todas as instancias são centralizadas, podemos observar que o contador mudou."
   ]
  }
 ],
 "metadata": {
  "kernelspec": {
   "display_name": "Python 3 (ipykernel)",
   "language": "python",
   "name": "python3"
  },
  "language_info": {
   "codemirror_mode": {
    "name": "ipython",
    "version": 3
   },
   "file_extension": ".py",
   "mimetype": "text/x-python",
   "name": "python",
   "nbconvert_exporter": "python",
   "pygments_lexer": "ipython3",
   "version": "3.8.2"
  }
 },
 "nbformat": 4,
 "nbformat_minor": 5
}
